{
 "cells": [
  {
   "cell_type": "code",
   "execution_count": 2,
   "metadata": {
    "ExecuteTime": {
     "end_time": "2019-09-22T16:42:41.394527Z",
     "start_time": "2019-09-22T16:42:41.120847Z"
    }
   },
   "outputs": [],
   "source": [
    "import numpy as np"
   ]
  },
  {
   "cell_type": "markdown",
   "metadata": {},
   "source": [
    "# Stastical Operations"
   ]
  },
  {
   "cell_type": "code",
   "execution_count": 12,
   "metadata": {
    "ExecuteTime": {
     "end_time": "2019-09-20T17:27:12.178156Z",
     "start_time": "2019-09-20T17:27:12.169840Z"
    }
   },
   "outputs": [],
   "source": [
    "x = [i for i in range(0, 20, 2)]\n",
    "y = [i for i in range(0, 30, 3)]"
   ]
  },
  {
   "cell_type": "code",
   "execution_count": 17,
   "metadata": {
    "ExecuteTime": {
     "end_time": "2019-09-20T17:28:00.715334Z",
     "start_time": "2019-09-20T17:28:00.695142Z"
    }
   },
   "outputs": [
    {
     "data": {
      "text/plain": [
       "array([[ 0,  2,  4,  6,  8, 10, 12, 14, 16, 18],\n",
       "       [ 0,  3,  6,  9, 12, 15, 18, 21, 24, 27]])"
      ]
     },
     "execution_count": 17,
     "metadata": {},
     "output_type": "execute_result"
    }
   ],
   "source": [
    "arr = np.array([x, y])\n",
    "arr"
   ]
  },
  {
   "cell_type": "code",
   "execution_count": 18,
   "metadata": {
    "ExecuteTime": {
     "end_time": "2019-09-20T17:28:51.855086Z",
     "start_time": "2019-09-20T17:28:51.849160Z"
    }
   },
   "outputs": [
    {
     "data": {
      "text/plain": [
       "0"
      ]
     },
     "execution_count": 18,
     "metadata": {},
     "output_type": "execute_result"
    }
   ],
   "source": [
    "arr.min()"
   ]
  },
  {
   "cell_type": "code",
   "execution_count": 19,
   "metadata": {
    "ExecuteTime": {
     "end_time": "2019-09-20T17:29:03.066624Z",
     "start_time": "2019-09-20T17:29:03.058222Z"
    }
   },
   "outputs": [
    {
     "data": {
      "text/plain": [
       "27"
      ]
     },
     "execution_count": 19,
     "metadata": {},
     "output_type": "execute_result"
    }
   ],
   "source": [
    "arr.max()"
   ]
  },
  {
   "cell_type": "code",
   "execution_count": 20,
   "metadata": {
    "ExecuteTime": {
     "end_time": "2019-09-20T17:29:09.633024Z",
     "start_time": "2019-09-20T17:29:09.624007Z"
    }
   },
   "outputs": [
    {
     "data": {
      "text/plain": [
       "7.660776723022281"
      ]
     },
     "execution_count": 20,
     "metadata": {},
     "output_type": "execute_result"
    }
   ],
   "source": [
    "arr.std()"
   ]
  },
  {
   "cell_type": "code",
   "execution_count": 21,
   "metadata": {
    "ExecuteTime": {
     "end_time": "2019-09-20T17:29:18.281067Z",
     "start_time": "2019-09-20T17:29:18.274206Z"
    }
   },
   "outputs": [
    {
     "data": {
      "text/plain": [
       "11.25"
      ]
     },
     "execution_count": 21,
     "metadata": {},
     "output_type": "execute_result"
    }
   ],
   "source": [
    "arr.mean()"
   ]
  },
  {
   "cell_type": "code",
   "execution_count": 22,
   "metadata": {
    "ExecuteTime": {
     "end_time": "2019-09-20T17:29:49.168246Z",
     "start_time": "2019-09-20T17:29:49.160387Z"
    }
   },
   "outputs": [
    {
     "data": {
      "text/plain": [
       "array([[ 0,  2,  4,  6,  8, 10, 12, 14, 16, 18],\n",
       "       [ 0,  3,  6,  9, 12, 15, 18, 21, 24, 27]])"
      ]
     },
     "execution_count": 22,
     "metadata": {},
     "output_type": "execute_result"
    }
   ],
   "source": [
    "arr.squeeze()"
   ]
  },
  {
   "cell_type": "code",
   "execution_count": 23,
   "metadata": {
    "ExecuteTime": {
     "end_time": "2019-09-20T17:30:19.967158Z",
     "start_time": "2019-09-20T17:30:19.961272Z"
    }
   },
   "outputs": [
    {
     "data": {
      "text/plain": [
       "array([  0,   2,   6,  12,  20,  30,  42,  56,  72,  90,  90,  93,  99,\n",
       "       108, 120, 135, 153, 174, 198, 225])"
      ]
     },
     "execution_count": 23,
     "metadata": {},
     "output_type": "execute_result"
    }
   ],
   "source": [
    "arr.cumsum()"
   ]
  },
  {
   "cell_type": "code",
   "execution_count": 24,
   "metadata": {
    "ExecuteTime": {
     "end_time": "2019-09-20T17:30:34.246602Z",
     "start_time": "2019-09-20T17:30:34.238660Z"
    }
   },
   "outputs": [
    {
     "data": {
      "text/plain": [
       "array([ 0,  2,  4,  6,  8, 10, 12, 14, 16, 18,  0,  3,  6,  9, 12, 15, 18,\n",
       "       21, 24, 27])"
      ]
     },
     "execution_count": 24,
     "metadata": {},
     "output_type": "execute_result"
    }
   ],
   "source": [
    "arr.flatten()"
   ]
  },
  {
   "cell_type": "markdown",
   "metadata": {},
   "source": [
    "# sequence, repetitions, and random numbers"
   ]
  },
  {
   "cell_type": "code",
   "execution_count": 31,
   "metadata": {
    "ExecuteTime": {
     "end_time": "2019-09-20T17:33:24.702617Z",
     "start_time": "2019-09-20T17:33:24.695539Z"
    }
   },
   "outputs": [
    {
     "data": {
      "text/plain": [
       "array([ 0.        ,  5.55555556, 11.11111111, 16.66666667, 22.22222222,\n",
       "       27.77777778, 33.33333333, 38.88888889, 44.44444444, 50.        ])"
      ]
     },
     "execution_count": 31,
     "metadata": {},
     "output_type": "execute_result"
    }
   ],
   "source": [
    "np.linspace(0, 50, 10)"
   ]
  },
  {
   "cell_type": "code",
   "execution_count": 34,
   "metadata": {
    "ExecuteTime": {
     "end_time": "2019-09-20T17:33:47.785837Z",
     "start_time": "2019-09-20T17:33:47.775362Z"
    }
   },
   "outputs": [
    {
     "data": {
      "text/plain": [
       "array([1.00000000e+02, 2.15443469e+07, 4.64158883e+12, 1.00000000e+18,\n",
       "       2.15443469e+23, 4.64158883e+28, 1.00000000e+34, 2.15443469e+39,\n",
       "       4.64158883e+44, 1.00000000e+50])"
      ]
     },
     "execution_count": 34,
     "metadata": {},
     "output_type": "execute_result"
    }
   ],
   "source": [
    "np.logspace(2, 50, 10)"
   ]
  },
  {
   "cell_type": "markdown",
   "metadata": {},
   "source": [
    "# Part 2"
   ]
  },
  {
   "cell_type": "code",
   "execution_count": 3,
   "metadata": {
    "ExecuteTime": {
     "end_time": "2019-09-22T16:42:44.636531Z",
     "start_time": "2019-09-22T16:42:44.631733Z"
    }
   },
   "outputs": [],
   "source": [
    "arr = np.array([8, 10, 12, 14, 18, 20])"
   ]
  },
  {
   "cell_type": "code",
   "execution_count": 5,
   "metadata": {
    "ExecuteTime": {
     "end_time": "2019-09-22T16:43:10.855370Z",
     "start_time": "2019-09-22T16:43:10.836217Z"
    }
   },
   "outputs": [
    {
     "data": {
      "text/plain": [
       "(array([2, 3, 4, 5]),)"
      ]
     },
     "execution_count": 5,
     "metadata": {},
     "output_type": "execute_result"
    }
   ],
   "source": [
    "arr10 = np.where(arr > 10)\n",
    "arr10"
   ]
  },
  {
   "cell_type": "code",
   "execution_count": 6,
   "metadata": {
    "ExecuteTime": {
     "end_time": "2019-09-22T16:43:29.668219Z",
     "start_time": "2019-09-22T16:43:29.662706Z"
    }
   },
   "outputs": [
    {
     "data": {
      "text/plain": [
       "array([12, 14, 18, 20])"
      ]
     },
     "execution_count": 6,
     "metadata": {},
     "output_type": "execute_result"
    }
   ],
   "source": [
    "arr[arr10]"
   ]
  },
  {
   "cell_type": "code",
   "execution_count": 8,
   "metadata": {
    "ExecuteTime": {
     "end_time": "2019-09-22T16:44:52.695072Z",
     "start_time": "2019-09-22T16:44:52.688826Z"
    }
   },
   "outputs": [
    {
     "data": {
      "text/plain": [
       "array(['Great', 'Great', 'oh no', 'oh no', 'oh no', 'oh no'], dtype='<U5')"
      ]
     },
     "execution_count": 8,
     "metadata": {},
     "output_type": "execute_result"
    }
   ],
   "source": [
    "np.where(arr>10, 'oh no', 'Great')"
   ]
  },
  {
   "cell_type": "markdown",
   "metadata": {
    "ExecuteTime": {
     "end_time": "2019-09-22T16:45:24.595383Z",
     "start_time": "2019-09-22T16:45:24.590517Z"
    }
   },
   "source": [
    "# read and write csv file"
   ]
  },
  {
   "cell_type": "code",
   "execution_count": 10,
   "metadata": {
    "ExecuteTime": {
     "end_time": "2019-09-22T16:46:11.076024Z",
     "start_time": "2019-09-22T16:46:08.581229Z"
    }
   },
   "outputs": [],
   "source": [
    "url = 'https://raw.githubusercontent.com/selva86/datasets/master/Auto.csv'\n",
    "data = np.genfromtxt(url, delimiter= ',', skip_header= 1, \n",
    "              filling_values= -1000, dtype = 'float')"
   ]
  },
  {
   "cell_type": "code",
   "execution_count": 12,
   "metadata": {
    "ExecuteTime": {
     "end_time": "2019-09-22T16:46:26.268960Z",
     "start_time": "2019-09-22T16:46:26.262517Z"
    }
   },
   "outputs": [
    {
     "data": {
      "text/plain": [
       "(392, 9)"
      ]
     },
     "execution_count": 12,
     "metadata": {},
     "output_type": "execute_result"
    }
   ],
   "source": [
    "data.shape"
   ]
  },
  {
   "cell_type": "code",
   "execution_count": 13,
   "metadata": {
    "ExecuteTime": {
     "end_time": "2019-09-22T16:47:51.612155Z",
     "start_time": "2019-09-22T16:47:51.600820Z"
    }
   },
   "outputs": [],
   "source": [
    "np.savetxt('data.csv', data, delimiter=',')"
   ]
  },
  {
   "cell_type": "code",
   "execution_count": 32,
   "metadata": {
    "ExecuteTime": {
     "end_time": "2019-09-22T16:51:04.964613Z",
     "start_time": "2019-09-22T16:51:04.958551Z"
    }
   },
   "outputs": [],
   "source": [
    "np.save('data.npy', data)"
   ]
  },
  {
   "cell_type": "code",
   "execution_count": 26,
   "metadata": {
    "ExecuteTime": {
     "end_time": "2019-09-22T16:50:32.645244Z",
     "start_time": "2019-09-22T16:50:32.639109Z"
    }
   },
   "outputs": [],
   "source": [
    "np.savez('data.npz', data)"
   ]
  },
  {
   "cell_type": "code",
   "execution_count": 35,
   "metadata": {
    "ExecuteTime": {
     "end_time": "2019-09-22T16:51:19.712753Z",
     "start_time": "2019-09-22T16:51:19.700985Z"
    }
   },
   "outputs": [
    {
     "data": {
      "text/plain": [
       "array([[   18.,     8.,   307., ...,    70.,     1., -1000.],\n",
       "       [   15.,     8.,   350., ...,    70.,     1., -1000.],\n",
       "       [   18.,     8.,   318., ...,    70.,     1., -1000.],\n",
       "       ...,\n",
       "       [   32.,     4.,   135., ...,    82.,     1., -1000.],\n",
       "       [   28.,     4.,   120., ...,    82.,     1., -1000.],\n",
       "       [   31.,     4.,   119., ...,    82.,     1., -1000.]])"
      ]
     },
     "execution_count": 35,
     "metadata": {},
     "output_type": "execute_result"
    }
   ],
   "source": [
    "d = np.load('data.npy')\n",
    "d"
   ]
  },
  {
   "cell_type": "code",
   "execution_count": 36,
   "metadata": {
    "ExecuteTime": {
     "end_time": "2019-09-22T16:51:24.083722Z",
     "start_time": "2019-09-22T16:51:24.077476Z"
    }
   },
   "outputs": [
    {
     "data": {
      "text/plain": [
       "(392, 9)"
      ]
     },
     "execution_count": 36,
     "metadata": {},
     "output_type": "execute_result"
    }
   ],
   "source": [
    "d.shape"
   ]
  },
  {
   "cell_type": "code",
   "execution_count": 37,
   "metadata": {
    "ExecuteTime": {
     "end_time": "2019-09-22T16:52:01.005240Z",
     "start_time": "2019-09-22T16:52:00.996882Z"
    }
   },
   "outputs": [],
   "source": [
    "d2 = np.load('data.npz')"
   ]
  },
  {
   "cell_type": "code",
   "execution_count": 38,
   "metadata": {
    "ExecuteTime": {
     "end_time": "2019-09-22T16:52:07.659419Z",
     "start_time": "2019-09-22T16:52:07.652951Z"
    }
   },
   "outputs": [
    {
     "data": {
      "text/plain": [
       "['arr_0']"
      ]
     },
     "execution_count": 38,
     "metadata": {},
     "output_type": "execute_result"
    }
   ],
   "source": [
    "d2.files"
   ]
  },
  {
   "cell_type": "code",
   "execution_count": 39,
   "metadata": {
    "ExecuteTime": {
     "end_time": "2019-09-22T16:52:35.715939Z",
     "start_time": "2019-09-22T16:52:35.710228Z"
    }
   },
   "outputs": [],
   "source": [
    "d3 = d2['arr_0']"
   ]
  },
  {
   "cell_type": "code",
   "execution_count": 40,
   "metadata": {
    "ExecuteTime": {
     "end_time": "2019-09-22T16:52:43.315067Z",
     "start_time": "2019-09-22T16:52:43.308399Z"
    }
   },
   "outputs": [
    {
     "data": {
      "text/plain": [
       "(392, 9)"
      ]
     },
     "execution_count": 40,
     "metadata": {},
     "output_type": "execute_result"
    }
   ],
   "source": [
    "d3.shape"
   ]
  },
  {
   "cell_type": "markdown",
   "metadata": {
    "ExecuteTime": {
     "end_time": "2019-09-22T16:53:04.106486Z",
     "start_time": "2019-09-22T16:53:04.103200Z"
    }
   },
   "source": [
    "# concat with row and col wise"
   ]
  },
  {
   "cell_type": "code",
   "execution_count": 42,
   "metadata": {
    "ExecuteTime": {
     "end_time": "2019-09-22T16:53:21.113374Z",
     "start_time": "2019-09-22T16:53:21.108895Z"
    }
   },
   "outputs": [],
   "source": [
    "arr1 = np.zeros([4, 4])\n",
    "arr2 = np.ones([4, 4])"
   ]
  },
  {
   "cell_type": "code",
   "execution_count": 43,
   "metadata": {
    "ExecuteTime": {
     "end_time": "2019-09-22T16:53:31.802216Z",
     "start_time": "2019-09-22T16:53:31.792983Z"
    }
   },
   "outputs": [
    {
     "data": {
      "text/plain": [
       "array([[0., 0., 0., 0.],\n",
       "       [0., 0., 0., 0.],\n",
       "       [0., 0., 0., 0.],\n",
       "       [0., 0., 0., 0.]])"
      ]
     },
     "execution_count": 43,
     "metadata": {},
     "output_type": "execute_result"
    }
   ],
   "source": [
    "arr1"
   ]
  },
  {
   "cell_type": "code",
   "execution_count": 44,
   "metadata": {
    "ExecuteTime": {
     "end_time": "2019-09-22T16:53:35.933242Z",
     "start_time": "2019-09-22T16:53:35.925729Z"
    }
   },
   "outputs": [
    {
     "data": {
      "text/plain": [
       "array([[1., 1., 1., 1.],\n",
       "       [1., 1., 1., 1.],\n",
       "       [1., 1., 1., 1.],\n",
       "       [1., 1., 1., 1.]])"
      ]
     },
     "execution_count": 44,
     "metadata": {},
     "output_type": "execute_result"
    }
   ],
   "source": [
    "arr2"
   ]
  },
  {
   "cell_type": "markdown",
   "metadata": {},
   "source": [
    "# For concat 3 methods available\n",
    "- concatenate\n",
    "- vstack for column wise\n",
    "- hstack for row wise\n",
    "- r_ for column wise\n",
    "- c_ for row wise"
   ]
  },
  {
   "cell_type": "code",
   "execution_count": 45,
   "metadata": {
    "ExecuteTime": {
     "end_time": "2019-09-22T16:53:54.245057Z",
     "start_time": "2019-09-22T16:53:54.234939Z"
    }
   },
   "outputs": [
    {
     "data": {
      "text/plain": [
       "array([[0., 0., 0., 0.],\n",
       "       [0., 0., 0., 0.],\n",
       "       [0., 0., 0., 0.],\n",
       "       [0., 0., 0., 0.],\n",
       "       [1., 1., 1., 1.],\n",
       "       [1., 1., 1., 1.],\n",
       "       [1., 1., 1., 1.],\n",
       "       [1., 1., 1., 1.]])"
      ]
     },
     "execution_count": 45,
     "metadata": {},
     "output_type": "execute_result"
    }
   ],
   "source": [
    "np.concatenate([arr1, arr2], axis = 0)"
   ]
  },
  {
   "cell_type": "code",
   "execution_count": 46,
   "metadata": {
    "ExecuteTime": {
     "end_time": "2019-09-22T16:54:03.240166Z",
     "start_time": "2019-09-22T16:54:03.231268Z"
    }
   },
   "outputs": [
    {
     "data": {
      "text/plain": [
       "array([[0., 0., 0., 0.],\n",
       "       [0., 0., 0., 0.],\n",
       "       [0., 0., 0., 0.],\n",
       "       [0., 0., 0., 0.],\n",
       "       [1., 1., 1., 1.],\n",
       "       [1., 1., 1., 1.],\n",
       "       [1., 1., 1., 1.],\n",
       "       [1., 1., 1., 1.]])"
      ]
     },
     "execution_count": 46,
     "metadata": {},
     "output_type": "execute_result"
    }
   ],
   "source": [
    "np.vstack([arr1, arr2])"
   ]
  },
  {
   "cell_type": "code",
   "execution_count": 49,
   "metadata": {
    "ExecuteTime": {
     "end_time": "2019-09-22T16:55:28.012364Z",
     "start_time": "2019-09-22T16:55:28.004082Z"
    }
   },
   "outputs": [
    {
     "data": {
      "text/plain": [
       "array([[0., 0., 0., 0.],\n",
       "       [0., 0., 0., 0.],\n",
       "       [0., 0., 0., 0.],\n",
       "       [0., 0., 0., 0.],\n",
       "       [1., 1., 1., 1.],\n",
       "       [1., 1., 1., 1.],\n",
       "       [1., 1., 1., 1.],\n",
       "       [1., 1., 1., 1.]])"
      ]
     },
     "execution_count": 49,
     "metadata": {},
     "output_type": "execute_result"
    }
   ],
   "source": [
    "np.r_[arr1, arr2]"
   ]
  },
  {
   "cell_type": "markdown",
   "metadata": {},
   "source": [
    "# Concat axis wise"
   ]
  },
  {
   "cell_type": "code",
   "execution_count": 48,
   "metadata": {
    "ExecuteTime": {
     "end_time": "2019-09-22T16:55:24.206856Z",
     "start_time": "2019-09-22T16:55:24.198093Z"
    }
   },
   "outputs": [
    {
     "data": {
      "text/plain": [
       "array([[0., 0., 0., 0., 1., 1., 1., 1.],\n",
       "       [0., 0., 0., 0., 1., 1., 1., 1.],\n",
       "       [0., 0., 0., 0., 1., 1., 1., 1.],\n",
       "       [0., 0., 0., 0., 1., 1., 1., 1.]])"
      ]
     },
     "execution_count": 48,
     "metadata": {},
     "output_type": "execute_result"
    }
   ],
   "source": [
    "np.concatenate([arr1, arr2], axis = 1)"
   ]
  },
  {
   "cell_type": "code",
   "execution_count": 50,
   "metadata": {
    "ExecuteTime": {
     "end_time": "2019-09-22T16:56:01.488555Z",
     "start_time": "2019-09-22T16:56:01.479645Z"
    }
   },
   "outputs": [
    {
     "data": {
      "text/plain": [
       "array([[0., 0., 0., 0.],\n",
       "       [0., 0., 0., 0.],\n",
       "       [0., 0., 0., 0.],\n",
       "       [0., 0., 0., 0.],\n",
       "       [1., 1., 1., 1.],\n",
       "       [1., 1., 1., 1.],\n",
       "       [1., 1., 1., 1.],\n",
       "       [1., 1., 1., 1.]])"
      ]
     },
     "execution_count": 50,
     "metadata": {},
     "output_type": "execute_result"
    }
   ],
   "source": [
    "np.concatenate([arr1, arr2], axis = 0)"
   ]
  },
  {
   "cell_type": "markdown",
   "metadata": {},
   "source": [
    "# sort a numpy array"
   ]
  },
  {
   "cell_type": "code",
   "execution_count": 51,
   "metadata": {
    "ExecuteTime": {
     "end_time": "2019-09-22T16:58:22.733884Z",
     "start_time": "2019-09-22T16:58:22.726042Z"
    }
   },
   "outputs": [
    {
     "data": {
      "text/plain": [
       "array([[7, 2, 4, 8, 3],\n",
       "       [4, 9, 7, 8, 6],\n",
       "       [4, 1, 8, 5, 6],\n",
       "       [8, 2, 7, 2, 1],\n",
       "       [9, 9, 5, 8, 4],\n",
       "       [1, 1, 7, 5, 6],\n",
       "       [3, 8, 5, 9, 2],\n",
       "       [4, 4, 7, 7, 8],\n",
       "       [5, 7, 4, 7, 7],\n",
       "       [7, 6, 4, 8, 7]])"
      ]
     },
     "execution_count": 51,
     "metadata": {},
     "output_type": "execute_result"
    }
   ],
   "source": [
    "arr = np.random.randint(1, 10, size = [10, 5])\n",
    "arr"
   ]
  },
  {
   "cell_type": "code",
   "execution_count": 52,
   "metadata": {
    "ExecuteTime": {
     "end_time": "2019-09-22T16:58:34.625880Z",
     "start_time": "2019-09-22T16:58:34.615366Z"
    }
   },
   "outputs": [
    {
     "data": {
      "text/plain": [
       "array([[1, 1, 4, 2, 1],\n",
       "       [3, 1, 4, 5, 2],\n",
       "       [4, 2, 4, 5, 3],\n",
       "       [4, 2, 5, 7, 4],\n",
       "       [4, 4, 5, 7, 6],\n",
       "       [5, 6, 7, 8, 6],\n",
       "       [7, 7, 7, 8, 6],\n",
       "       [7, 8, 7, 8, 7],\n",
       "       [8, 9, 7, 8, 7],\n",
       "       [9, 9, 8, 9, 8]])"
      ]
     },
     "execution_count": 52,
     "metadata": {},
     "output_type": "execute_result"
    }
   ],
   "source": [
    "np.sort(arr, axis = 0)"
   ]
  },
  {
   "cell_type": "code",
   "execution_count": 53,
   "metadata": {
    "ExecuteTime": {
     "end_time": "2019-09-22T16:58:53.783227Z",
     "start_time": "2019-09-22T16:58:53.776883Z"
    }
   },
   "outputs": [
    {
     "data": {
      "text/plain": [
       "array([[2, 3, 4, 7, 8],\n",
       "       [4, 6, 7, 8, 9],\n",
       "       [1, 4, 5, 6, 8],\n",
       "       [1, 2, 2, 7, 8],\n",
       "       [4, 5, 8, 9, 9],\n",
       "       [1, 1, 5, 6, 7],\n",
       "       [2, 3, 5, 8, 9],\n",
       "       [4, 4, 7, 7, 8],\n",
       "       [4, 5, 7, 7, 7],\n",
       "       [4, 6, 7, 7, 8]])"
      ]
     },
     "execution_count": 53,
     "metadata": {},
     "output_type": "execute_result"
    }
   ],
   "source": [
    "np.sort(arr, axis=1)"
   ]
  },
  {
   "cell_type": "markdown",
   "metadata": {},
   "source": [
    "# working with dates"
   ]
  },
  {
   "cell_type": "code",
   "execution_count": 54,
   "metadata": {
    "ExecuteTime": {
     "end_time": "2019-09-22T17:00:02.752470Z",
     "start_time": "2019-09-22T17:00:02.746186Z"
    }
   },
   "outputs": [],
   "source": [
    "d = np.datetime64('2019-06-02 23:10:00')"
   ]
  },
  {
   "cell_type": "code",
   "execution_count": 57,
   "metadata": {
    "ExecuteTime": {
     "end_time": "2019-09-22T17:01:06.202425Z",
     "start_time": "2019-09-22T17:01:06.192129Z"
    }
   },
   "outputs": [
    {
     "data": {
      "text/plain": [
       "numpy.datetime64('2019-06-02T23:26:40')"
      ]
     },
     "execution_count": 57,
     "metadata": {},
     "output_type": "execute_result"
    }
   ],
   "source": [
    "d + 1000"
   ]
  },
  {
   "cell_type": "code",
   "execution_count": 59,
   "metadata": {
    "ExecuteTime": {
     "end_time": "2019-09-22T17:01:39.327459Z",
     "start_time": "2019-09-22T17:01:39.316947Z"
    }
   },
   "outputs": [
    {
     "data": {
      "text/plain": [
       "array(['2019-06-02', '2019-06-04', '2019-06-06', '2019-06-08',\n",
       "       '2019-06-10'], dtype='datetime64[D]')"
      ]
     },
     "execution_count": 59,
     "metadata": {},
     "output_type": "execute_result"
    }
   ],
   "source": [
    "dates = np.arange(np.datetime64('2019-06-02'), np.datetime64('2020-06-02'), 2)\n",
    "dates[:5]"
   ]
  },
  {
   "cell_type": "code",
   "execution_count": 63,
   "metadata": {
    "ExecuteTime": {
     "end_time": "2019-09-22T17:02:19.814282Z",
     "start_time": "2019-09-22T17:02:19.807645Z"
    }
   },
   "outputs": [
    {
     "data": {
      "text/plain": [
       "<function datetime64.clip>"
      ]
     },
     "execution_count": 63,
     "metadata": {},
     "output_type": "execute_result"
    }
   ],
   "source": []
  },
  {
   "cell_type": "markdown",
   "metadata": {},
   "source": [
    "# Numpy Advanced Function"
   ]
  },
  {
   "cell_type": "code",
   "execution_count": 64,
   "metadata": {
    "ExecuteTime": {
     "end_time": "2019-09-22T17:09:41.817711Z",
     "start_time": "2019-09-22T17:09:41.812082Z"
    }
   },
   "outputs": [],
   "source": [
    "def foo(x):\n",
    "    if x % 2 == 1:\n",
    "        return x ** 2\n",
    "    else:\n",
    "        return x / 2 "
   ]
  },
  {
   "cell_type": "code",
   "execution_count": 65,
   "metadata": {
    "ExecuteTime": {
     "end_time": "2019-09-22T17:09:59.535594Z",
     "start_time": "2019-09-22T17:09:59.530377Z"
    }
   },
   "outputs": [
    {
     "data": {
      "text/plain": [
       "6.0"
      ]
     },
     "execution_count": 65,
     "metadata": {},
     "output_type": "execute_result"
    }
   ],
   "source": [
    "foo(12)"
   ]
  },
  {
   "cell_type": "code",
   "execution_count": 67,
   "metadata": {
    "ExecuteTime": {
     "end_time": "2019-09-22T17:10:16.995902Z",
     "start_time": "2019-09-22T17:10:16.985643Z"
    }
   },
   "outputs": [
    {
     "data": {
      "text/plain": [
       "array([[7, 2, 4, 8, 3],\n",
       "       [4, 9, 7, 8, 6],\n",
       "       [4, 1, 8, 5, 6],\n",
       "       [8, 2, 7, 2, 1],\n",
       "       [9, 9, 5, 8, 4],\n",
       "       [1, 1, 7, 5, 6],\n",
       "       [3, 8, 5, 9, 2],\n",
       "       [4, 4, 7, 7, 8],\n",
       "       [5, 7, 4, 7, 7],\n",
       "       [7, 6, 4, 8, 7]])"
      ]
     },
     "execution_count": 67,
     "metadata": {},
     "output_type": "execute_result"
    }
   ],
   "source": [
    "arr"
   ]
  },
  {
   "cell_type": "code",
   "execution_count": 69,
   "metadata": {
    "ExecuteTime": {
     "end_time": "2019-09-22T17:11:11.727730Z",
     "start_time": "2019-09-22T17:11:11.722643Z"
    }
   },
   "outputs": [],
   "source": [
    "v = np.vectorize(foo, otypes=['float'])"
   ]
  },
  {
   "cell_type": "code",
   "execution_count": 71,
   "metadata": {
    "ExecuteTime": {
     "end_time": "2019-09-22T17:11:19.347279Z",
     "start_time": "2019-09-22T17:11:19.335445Z"
    }
   },
   "outputs": [
    {
     "data": {
      "text/plain": [
       "array(5.)"
      ]
     },
     "execution_count": 71,
     "metadata": {},
     "output_type": "execute_result"
    }
   ],
   "source": [
    "v(10)"
   ]
  },
  {
   "cell_type": "code",
   "execution_count": 72,
   "metadata": {
    "ExecuteTime": {
     "end_time": "2019-09-22T17:11:38.259168Z",
     "start_time": "2019-09-22T17:11:38.250666Z"
    }
   },
   "outputs": [
    {
     "data": {
      "text/plain": [
       "array([[49.,  1.,  2.,  4.,  9.],\n",
       "       [ 2., 81., 49.,  4.,  3.],\n",
       "       [ 2.,  1.,  4., 25.,  3.],\n",
       "       [ 4.,  1., 49.,  1.,  1.],\n",
       "       [81., 81., 25.,  4.,  2.],\n",
       "       [ 1.,  1., 49., 25.,  3.],\n",
       "       [ 9.,  4., 25., 81.,  1.],\n",
       "       [ 2.,  2., 49., 49.,  4.],\n",
       "       [25., 49.,  2., 49., 49.],\n",
       "       [49.,  3.,  2.,  4., 49.]])"
      ]
     },
     "execution_count": 72,
     "metadata": {},
     "output_type": "execute_result"
    }
   ],
   "source": [
    "v(arr)"
   ]
  },
  {
   "cell_type": "code",
   "execution_count": 73,
   "metadata": {
    "ExecuteTime": {
     "end_time": "2019-09-22T17:12:05.788466Z",
     "start_time": "2019-09-22T17:12:05.780447Z"
    }
   },
   "outputs": [
    {
     "data": {
      "text/plain": [
       "49"
      ]
     },
     "execution_count": 73,
     "metadata": {},
     "output_type": "execute_result"
    }
   ],
   "source": []
  },
  {
   "cell_type": "code",
   "execution_count": null,
   "metadata": {},
   "outputs": [],
   "source": []
  },
  {
   "cell_type": "code",
   "execution_count": null,
   "metadata": {},
   "outputs": [],
   "source": []
  },
  {
   "cell_type": "code",
   "execution_count": null,
   "metadata": {},
   "outputs": [],
   "source": []
  },
  {
   "cell_type": "code",
   "execution_count": null,
   "metadata": {},
   "outputs": [],
   "source": []
  },
  {
   "cell_type": "code",
   "execution_count": null,
   "metadata": {},
   "outputs": [],
   "source": []
  },
  {
   "cell_type": "code",
   "execution_count": null,
   "metadata": {},
   "outputs": [],
   "source": []
  },
  {
   "cell_type": "code",
   "execution_count": null,
   "metadata": {},
   "outputs": [],
   "source": []
  }
 ],
 "metadata": {
  "kernelspec": {
   "display_name": "Python 3",
   "language": "python",
   "name": "python3"
  },
  "language_info": {
   "codemirror_mode": {
    "name": "ipython",
    "version": 3
   },
   "file_extension": ".py",
   "mimetype": "text/x-python",
   "name": "python",
   "nbconvert_exporter": "python",
   "pygments_lexer": "ipython3",
   "version": "3.7.3"
  }
 },
 "nbformat": 4,
 "nbformat_minor": 2
}
